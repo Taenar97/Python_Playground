{
 "cells": [
  {
   "cell_type": "code",
   "execution_count": 1,
   "metadata": {},
   "outputs": [],
   "source": [
    "import pennylane as qml\n",
    "from pennylane import numpy as np"
   ]
  },
  {
   "cell_type": "code",
   "execution_count": 2,
   "metadata": {},
   "outputs": [],
   "source": [
    "#create a quantum device\n",
    "dev1 = qml.device(\"default.qubit\", wires = 1)\n",
    "\n",
    "@qml.qnode(dev1)\n",
    "def circuit(phi1, phi2):\n",
    "    # a quantum node\n",
    "    qml.RX(phi1, wires = 0)\n",
    "    qml.RY(phi2, wires = 0)\n",
    "    return qml.expval(qml.PauliZ(0))\n",
    "\n",
    "def cost(x, y):\n",
    "    #classical processing\n",
    "    return np.sin(np.abs(circuit(x,y))) - 1\n",
    "\n",
    "#calculate the gradient\n",
    "dcost = qml.grad(cost, argnum=[0,1])"
   ]
  }
 ],
 "metadata": {
  "interpreter": {
   "hash": "c9a1e97689260f3c5e0ff2b6622a486050f1624a472f7dd78e134ded92b0ad4f"
  },
  "kernelspec": {
   "display_name": "Python 3.10.4 64-bit (windows store)",
   "language": "python",
   "name": "python3"
  },
  "language_info": {
   "codemirror_mode": {
    "name": "ipython",
    "version": 3
   },
   "file_extension": ".py",
   "mimetype": "text/x-python",
   "name": "python",
   "nbconvert_exporter": "python",
   "pygments_lexer": "ipython3",
   "version": "3.10.4"
  },
  "orig_nbformat": 4
 },
 "nbformat": 4,
 "nbformat_minor": 2
}
